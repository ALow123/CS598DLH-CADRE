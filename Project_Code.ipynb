{
 "cells": [
  {
   "cell_type": "markdown",
   "metadata": {},
   "source": [
    "# CS598 DLH Project: SADRE & CADRE\n",
    "Reproducing the work of \"Predicting Drug Sensitivity of Cancer Cell Lines via Collaborative Filtering with Contextual Attention\" by Yifeng Tao, Shuangxia Ren, Michael Q. Ding, Russell Schwartz, and Xinghua Lu."
   ]
  },
  {
   "cell_type": "markdown",
   "metadata": {},
   "source": [
    "### Mounting the Repository\n",
    "Run the following cell to mount the repository locaed in your Google Drive into Google Collab."
   ]
  },
  {
   "cell_type": "code",
   "execution_count": 3,
   "metadata": {
    "colab": {
     "base_uri": "https://localhost:8080/"
    },
    "executionInfo": {
     "elapsed": 29015,
     "status": "ok",
     "timestamp": 1744174100915,
     "user": {
      "displayName": "Aaron Low",
      "userId": "08376110119987284732"
     },
     "user_tz": 420
    },
    "id": "0Rnt6z1pbimQ",
    "outputId": "8274c7ca-dbb6-477f-d65b-84769a64d843"
   },
   "outputs": [
    {
     "name": "stdout",
     "output_type": "stream",
     "text": [
      "Mounted at /content/drive\n"
     ]
    }
   ],
   "source": [
    "from google.colab import drive\n",
    "drive.mount('/content/drive', force_remount=True)"
   ]
  },
  {
   "cell_type": "markdown",
   "metadata": {},
   "source": [
    "### Listing the Python Version used and Importing the Necessary Packages"
   ]
  },
  {
   "cell_type": "code",
   "execution_count": null,
   "metadata": {},
   "outputs": [],
   "source": [
    "!python --version"
   ]
  },
  {
   "cell_type": "code",
   "execution_count": null,
   "metadata": {},
   "outputs": [],
   "source": [
    "import numpy as np\n",
    "import torch\n",
    "import random\n",
    "import math\n",
    "import pandas as pd\n",
    "from sklearn.metrics import auc, roc_curve, precision_recall_curve"
   ]
  },
  {
   "cell_type": "markdown",
   "metadata": {},
   "source": [
    "### Executing the training and evaluation of the SADRE & CADRE models\n",
    "Run the following cell to execute the training and evaluation of the models. \n",
    "\n",
    "**Note**: Be sure to change the runtime to \"T4 GPU\" in order to have the necessary resources to run the model."
   ]
  },
  {
   "cell_type": "code",
   "execution_count": null,
   "metadata": {
    "colab": {
     "base_uri": "https://localhost:8080/"
    },
    "executionInfo": {
     "elapsed": 76249,
     "status": "ok",
     "timestamp": 1744076572458,
     "user": {
      "displayName": "Kevin Zhou",
      "userId": "01261011481288091605"
     },
     "user_tz": 420
    },
    "id": "sVK5_eCJbauU",
    "outputId": "abb0ab02-c097-4192-d237-d845e0287ed1"
   },
   "outputs": [
    {
     "name": "stdout",
     "output_type": "stream",
     "text": [
      "Loading drug dataset...\n",
      "Hyperparameters:\n",
      "{'is_train': True, 'input_dir': '/content/drive/MyDrive/CS598/CADRE-master/data/input', 'output_dir': '/content/drive/MyDrive/CS598/CADRE-master/data/output', 'repository': 'gdsc', 'drug_id': -1, 'use_cuda': True, 'use_relu': False, 'init_gene_emb': True, 'omic': 'exp', 'use_attention': True, 'use_cntx_attn': True, 'embedding_dim': 200, 'attention_size': 128, 'attention_head': 8, 'hidden_dim_enc': 200, 'use_hid_lyr': False, 'max_iter': 1025, 'dropout_rate': 0.6, 'learning_rate': 0.3, 'weight_decay': 0.0003, 'batch_size': 8, 'test_batch_size': 8, 'test_inc_size': 128, 'model_label': 'CF', 'exp_size': 3000, 'mut_size': 1000, 'cnv_size': 1000, 'omc_size': 3000, 'drg_size': 260, 'train_size': 676, 'test_size': 170}\n",
      "Training...\n",
      "Starting epoch: 0\n",
      "[0,0] | tst f1:38.8, auc:51.1 | trn f1:41.9, auc:49.6, loss:6.220\n",
      "Starting epoch: 8\n",
      "Starting epoch: 16\n",
      "Starting epoch: 24\n",
      "Starting epoch: 32\n",
      "Starting epoch: 40\n",
      "Starting epoch: 48\n",
      "Starting epoch: 56\n",
      "Starting epoch: 64\n",
      "Starting epoch: 72\n",
      "Starting epoch: 80\n",
      "Starting epoch: 88\n",
      "Starting epoch: 96\n",
      "Starting epoch: 104\n",
      "Starting epoch: 112\n",
      "Starting epoch: 120\n",
      "Starting epoch: 128\n",
      "[0,128] | tst f1:40.0, auc:53.2 | trn f1:40.1, auc:52.2, loss:5.746\n",
      "Starting epoch: 136\n",
      "Starting epoch: 144\n",
      "Starting epoch: 152\n",
      "Starting epoch: 160\n",
      "Starting epoch: 168\n",
      "Starting epoch: 176\n",
      "Starting epoch: 184\n",
      "Starting epoch: 192\n",
      "Starting epoch: 200\n",
      "Starting epoch: 208\n",
      "Starting epoch: 216\n",
      "Starting epoch: 224\n",
      "Starting epoch: 232\n",
      "Starting epoch: 240\n",
      "Starting epoch: 248\n",
      "Starting epoch: 256\n",
      "[0,256] | tst f1:42.4, auc:57.4 | trn f1:40.8, auc:56.2, loss:4.293\n",
      "Starting epoch: 264\n",
      "Starting epoch: 272\n",
      "Starting epoch: 280\n",
      "Starting epoch: 288\n",
      "Starting epoch: 296\n",
      "Starting epoch: 304\n",
      "Starting epoch: 312\n",
      "Starting epoch: 320\n",
      "Starting epoch: 328\n",
      "Starting epoch: 336\n",
      "Starting epoch: 344\n",
      "Starting epoch: 352\n",
      "Starting epoch: 360\n",
      "Starting epoch: 368\n",
      "Starting epoch: 376\n",
      "Starting epoch: 384\n",
      "[0,384] | tst f1:45.9, auc:62.9 | trn f1:44.9, auc:61.3, loss:3.248\n",
      "Starting epoch: 392\n",
      "Starting epoch: 400\n",
      "Starting epoch: 408\n",
      "Starting epoch: 416\n",
      "Starting epoch: 424\n",
      "Starting epoch: 432\n",
      "Starting epoch: 440\n",
      "Starting epoch: 448\n",
      "Starting epoch: 456\n",
      "Starting epoch: 464\n",
      "Starting epoch: 472\n",
      "Starting epoch: 480\n",
      "Starting epoch: 488\n",
      "Starting epoch: 496\n",
      "Starting epoch: 504\n",
      "Starting epoch: 512\n",
      "[0,512] | tst f1:47.0, auc:64.1 | trn f1:49.2, auc:64.0, loss:1.392\n",
      "Starting epoch: 520\n",
      "Starting epoch: 528\n",
      "Starting epoch: 536\n",
      "Starting epoch: 544\n",
      "Starting epoch: 552\n",
      "Starting epoch: 560\n",
      "Starting epoch: 568\n",
      "Starting epoch: 576\n",
      "Starting epoch: 584\n",
      "Starting epoch: 592\n",
      "Starting epoch: 600\n",
      "Starting epoch: 608\n",
      "Starting epoch: 616\n",
      "Starting epoch: 624\n",
      "Starting epoch: 632\n",
      "Starting epoch: 640\n",
      "[0,640] | tst f1:47.5, auc:64.5 | trn f1:49.7, auc:64.7, loss:0.740\n",
      "Starting epoch: 648\n",
      "Starting epoch: 656\n",
      "Starting epoch: 664\n",
      "Starting epoch: 672\n",
      "Starting epoch: 680\n",
      "Starting epoch: 688\n",
      "Starting epoch: 696\n",
      "Starting epoch: 704\n",
      "Starting epoch: 712\n",
      "Starting epoch: 720\n",
      "Starting epoch: 728\n",
      "Starting epoch: 736\n",
      "Starting epoch: 744\n",
      "Starting epoch: 752\n",
      "Starting epoch: 760\n",
      "Starting epoch: 768\n",
      "[1,92] | tst f1:47.3, auc:64.2 | trn f1:50.4, auc:66.0, loss:0.693\n",
      "Starting epoch: 776\n",
      "Starting epoch: 784\n",
      "Starting epoch: 792\n",
      "Starting epoch: 800\n",
      "Starting epoch: 808\n",
      "Starting epoch: 816\n",
      "Starting epoch: 824\n",
      "Starting epoch: 832\n",
      "Starting epoch: 840\n",
      "Starting epoch: 848\n",
      "Starting epoch: 856\n",
      "Starting epoch: 864\n",
      "Starting epoch: 872\n",
      "Starting epoch: 880\n",
      "Starting epoch: 888\n",
      "Starting epoch: 896\n",
      "[1,220] | tst f1:47.3, auc:64.3 | trn f1:48.5, auc:66.9, loss:0.706\n",
      "Starting epoch: 904\n",
      "Starting epoch: 912\n",
      "Starting epoch: 920\n",
      "Starting epoch: 928\n",
      "Starting epoch: 936\n",
      "Starting epoch: 944\n",
      "Starting epoch: 952\n",
      "Starting epoch: 960\n",
      "Starting epoch: 968\n",
      "Starting epoch: 976\n",
      "Starting epoch: 984\n",
      "Starting epoch: 992\n",
      "Starting epoch: 1000\n",
      "Starting epoch: 1008\n",
      "Starting epoch: 1016\n",
      "Starting epoch: 1024\n",
      "[1,348] | tst f1:48.0, auc:64.7 | trn f1:50.3, auc:65.9, loss:0.712\n"
     ]
    }
   ],
   "source": [
    "!python /content/drive/MyDrive/CS598/CADRE-master/run_cf.py --repository gdsc --model_label cntx-attn-gdsc"
   ]
  }
 ],
 "metadata": {
  "colab": {
   "provenance": []
  },
  "kernelspec": {
   "display_name": "Python 3",
   "name": "python3"
  },
  "language_info": {
   "name": "python"
  }
 },
 "nbformat": 4,
 "nbformat_minor": 0
}
